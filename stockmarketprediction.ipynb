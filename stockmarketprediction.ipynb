{
  "nbformat": 4,
  "nbformat_minor": 0,
  "metadata": {
    "colab": {
      "provenance": [],
      "gpuType": "T4",
      "authorship_tag": "ABX9TyP2AX3NQevjX50vaLKFoM6V",
      "include_colab_link": true
    },
    "kernelspec": {
      "name": "python3",
      "display_name": "Python 3"
    },
    "language_info": {
      "name": "python"
    },
    "accelerator": "GPU"
  },
  "cells": [
    {
      "cell_type": "markdown",
      "metadata": {
        "id": "view-in-github",
        "colab_type": "text"
      },
      "source": [
        "<a href=\"https://colab.research.google.com/github/mlvssyaswanth/colab-files/blob/main/stockmarketprediction.ipynb\" target=\"_parent\"><img src=\"https://colab.research.google.com/assets/colab-badge.svg\" alt=\"Open In Colab\"/></a>"
      ]
    },
    {
      "cell_type": "code",
      "execution_count": null,
      "metadata": {
        "id": "guMrJIKHnY_9"
      },
      "outputs": [],
      "source": [
        "# Import necessary libraries\n",
        "import os\n",
        "import zipfile\n",
        "import pandas as pd\n",
        "import numpy as np\n",
        "import matplotlib.pyplot as plt\n",
        "import seaborn as sns\n",
        "\n",
        "from sklearn.preprocessing import MinMaxScaler\n",
        "from tensorflow.keras.models import Sequential\n",
        "from tensorflow.keras.layers import LSTM, Dense, Dropout\n",
        "from google.colab import drive"
      ]
    },
    {
      "cell_type": "code",
      "source": [
        "# Mount Google Drive\n",
        "drive.mount('/content/drive')"
      ],
      "metadata": {
        "colab": {
          "base_uri": "https://localhost:8080/"
        },
        "id": "hvkRlh6HoVWF",
        "outputId": "06c498a2-59de-4abf-900e-fb5b669011f7"
      },
      "execution_count": null,
      "outputs": [
        {
          "output_type": "stream",
          "name": "stdout",
          "text": [
            "Drive already mounted at /content/drive; to attempt to forcibly remount, call drive.mount(\"/content/drive\", force_remount=True).\n"
          ]
        }
      ]
    },
    {
      "cell_type": "code",
      "source": [
        "# Define dataset paths\n",
        "zip_path = '/content/drive/MyDrive/stock_market.zip'\n",
        "extract_path = '/content/dataset/'\n",
        "\n",
        "# Extract the ZIP file\n",
        "with zipfile.ZipFile(zip_path, 'r') as zip_ref:\n",
        "    zip_ref.extractall(extract_path)\n",
        "\n",
        "# Load the dataset\n",
        "csv_path = os.path.join(extract_path, 'all_stocks_5yr.csv')  # Modify if needed\n",
        "df = pd.read_csv(csv_path)\n",
        "\n",
        "# Convert Date column to datetime format\n",
        "df['date'] = pd.to_datetime(df['date'])\n",
        "\n",
        "# Sort by date\n",
        "df = df.sort_values(by=['date'])\n",
        "\n",
        "# Display first few rows\n",
        "print(df.head())"
      ],
      "metadata": {
        "colab": {
          "base_uri": "https://localhost:8080/"
        },
        "id": "mcFiRx-FogQA",
        "outputId": "69c4acae-7450-4a15-ceef-f86bd81c7f07"
      },
      "execution_count": null,
      "outputs": [
        {
          "output_type": "stream",
          "name": "stdout",
          "text": [
            "             date    open      high      low   close   volume Name\n",
            "0      2013-02-08   15.07   15.1200   14.630   14.75  8407500  AAL\n",
            "508224 2013-02-08   81.22   81.9300   80.940   81.89   296853  SLG\n",
            "506965 2013-02-08   78.24   79.0700   78.125   79.07  4632684  SLB\n",
            "85755  2013-02-08  236.64  238.6924  235.750  238.16   552207  BLK\n",
            "505706 2013-02-08   89.04   89.4800   88.910   89.16   554948  SJM\n"
          ]
        }
      ]
    },
    {
      "cell_type": "code",
      "source": [
        "# Calculate Moving Averages\n",
        "df['SMA_20'] = df['close'].rolling(window=20).mean()\n",
        "df['SMA_50'] = df['close'].rolling(window=50).mean()\n",
        "\n",
        "# Calculate Exponential Moving Average\n",
        "df['EMA_20'] = df['close'].ewm(span=20, adjust=False).mean()\n",
        "\n",
        "# Calculate Relative Strength Index (RSI)\n",
        "def compute_rsi(data, window=14):\n",
        "    delta = data.diff()\n",
        "    gain = (delta.where(delta > 0, 0)).rolling(window=window).mean()\n",
        "    loss = (-delta.where(delta < 0, 0)).rolling(window=window).mean()\n",
        "    rs = gain / loss\n",
        "    return 100 - (100 / (1 + rs))\n",
        "\n",
        "df['RSI_14'] = compute_rsi(df['close'])\n",
        "\n",
        "# Drop NaN values after adding indicators\n",
        "df.dropna(inplace=True)\n",
        "\n",
        "# Display updated dataset\n",
        "print(df.head())\n"
      ],
      "metadata": {
        "colab": {
          "base_uri": "https://localhost:8080/"
        },
        "id": "chBFJ2FtpQaX",
        "outputId": "c36a8477-6750-4f11-dfb2-c8d525825d14"
      },
      "execution_count": null,
      "outputs": [
        {
          "output_type": "stream",
          "name": "stdout",
          "text": [
            "             date      open    high       low     close   volume  Name  \\\n",
            "515778 2013-02-08  161.0600  162.81  160.7900  162.7600  1048639   SPG   \n",
            "79165  2013-02-08   87.9600   88.67   87.8000   88.2500  1429840   BDX   \n",
            "514519 2013-02-08   43.9200   43.96   42.0700   42.6700  7888705  SPGI   \n",
            "80424  2013-02-08   46.6066   46.89   46.5366   46.7333  1263060   BEN   \n",
            "513260 2013-02-08   43.8900   43.89   43.6300   43.8500  2355131    SO   \n",
            "\n",
            "           SMA_20     SMA_50     EMA_20     RSI_14  \n",
            "515778  69.497500  68.446100  68.062165  58.302307  \n",
            "79165   70.820000  69.916100  69.984816  53.824348  \n",
            "514519  71.824000  69.131700  67.383405  51.591264  \n",
            "80424   70.656165  68.484966  65.416728  53.011133  \n",
            "513260  69.659665  64.598766  63.362754  51.064723  \n"
          ]
        }
      ]
    },
    {
      "cell_type": "code",
      "source": [
        "import tensorflow as tf\n",
        "from tensorflow.keras.layers import Dense, LeakyReLU\n",
        "from tensorflow.keras.models import Model\n",
        "from tensorflow.keras.optimizers import Adam\n",
        "\n",
        "# Define GAN Generator\n",
        "def build_generator():\n",
        "    generator = Sequential([\n",
        "        Dense(128, activation=LeakyReLU(alpha=0.01), input_dim=100),\n",
        "        Dense(256, activation=LeakyReLU(alpha=0.01)),\n",
        "        Dense(512, activation=LeakyReLU(alpha=0.01)),\n",
        "        Dense(1, activation='linear')  # Output single price prediction\n",
        "    ])\n",
        "    return generator\n",
        "\n",
        "# Generate synthetic stock prices\n",
        "def generate_synthetic_data(generator, n_samples=500):\n",
        "    noise = np.random.normal(0, 1, (n_samples, 100))\n",
        "    synthetic_prices = generator.predict(noise)\n",
        "    return synthetic_prices.flatten()\n",
        "\n",
        "# Instantiate and compile the generator\n",
        "generator = build_generator()\n",
        "generator.compile(loss='mse', optimizer=Adam(learning_rate=0.0002, beta_1=0.5))\n",
        "\n",
        "# Train GAN (Skipping Discriminator for simplicity)\n",
        "synthetic_data = generate_synthetic_data(generator, n_samples=len(df))\n",
        "\n",
        "# Generate synthetic stock prices\n",
        "synthetic_data = generate_synthetic_data(generator, n_samples=len(df))\n",
        "\n",
        "# Ensure length matches\n",
        "synthetic_data = synthetic_data[:len(df)]  # Trim excess values\n",
        "\n",
        "# Add synthetic data to the original dataset\n",
        "df['Synthetic_Close'] = synthetic_data\n",
        "\n",
        "# Display dataset with synthetic data\n",
        "print(df.tail())\n"
      ],
      "metadata": {
        "colab": {
          "base_uri": "https://localhost:8080/"
        },
        "id": "lASVWurupUpI",
        "outputId": "bb8f3bd8-4cff-47f4-fac4-4c38da1cac65"
      },
      "execution_count": null,
      "outputs": [
        {
          "output_type": "stream",
          "name": "stdout",
          "text": [
            "\u001b[1m19344/19344\u001b[0m \u001b[32m━━━━━━━━━━━━━━━━━━━━\u001b[0m\u001b[37m\u001b[0m \u001b[1m26s\u001b[0m 1ms/step\n",
            "\u001b[1m19344/19344\u001b[0m \u001b[32m━━━━━━━━━━━━━━━━━━━━\u001b[0m\u001b[37m\u001b[0m \u001b[1m25s\u001b[0m 1ms/step\n",
            "             date    open    high     low   close    volume  Name   SMA_20  \\\n",
            "147509 2018-02-07   53.38   54.36   52.94   52.97   6496219   CSX  84.7000   \n",
            "31474  2018-02-07  107.46  109.48  106.56  106.63   1668253   ALB  76.6485   \n",
            "241494 2018-02-07   10.75   11.04   10.70   10.76  68041787     F  71.8705   \n",
            "42609  2018-02-07  176.25  180.99  176.00  177.47   5715671  AMGN  79.1070   \n",
            "619039 2018-02-07   72.70   75.00   72.69   73.86   4534912   ZTS  77.9960   \n",
            "\n",
            "          SMA_50     EMA_20     RSI_14  Synthetic_Close  \n",
            "147509  112.4684  84.251759  50.722214        -0.560888  \n",
            "31474   113.6470  86.383020  51.616657        -0.619916  \n",
            "241494  113.4782  79.180827  46.184990        -0.540395  \n",
            "42609   116.5884  88.541701  53.894334        -0.526102  \n",
            "619039  116.0976  87.143444  49.892657        -0.428191  \n"
          ]
        }
      ]
    },
    {
      "cell_type": "code",
      "source": [
        "# Select features\n",
        "features = ['close', 'SMA_20', 'SMA_50', 'EMA_20', 'RSI_14', 'Synthetic_Close']\n",
        "data = df[features].values\n",
        "\n",
        "# Normalize the dataset\n",
        "scaler = MinMaxScaler(feature_range=(0, 1))\n",
        "scaled_data = scaler.fit_transform(data)\n",
        "\n",
        "# Define training data length (80% for training)\n",
        "training_data_len = int(len(scaled_data) * 0.8)\n",
        "\n",
        "# Create training dataset\n",
        "train_data = scaled_data[:training_data_len]\n",
        "x_train, y_train = [], []\n",
        "\n",
        "for i in range(60, len(train_data)):\n",
        "    x_train.append(train_data[i-60:i])\n",
        "    y_train.append(train_data[i, 0])\n",
        "\n",
        "x_train, y_train = np.array(x_train), np.array(y_train)\n",
        "\n",
        "# Reshape for LSTM\n",
        "x_train = np.reshape(x_train, (x_train.shape[0], x_train.shape[1], len(features)))\n"
      ],
      "metadata": {
        "id": "WzDY7J0DpWwp"
      },
      "execution_count": null,
      "outputs": []
    },
    {
      "cell_type": "code",
      "source": [
        "# Build LSTM model\n",
        "model = Sequential([\n",
        "    LSTM(units=50, return_sequences=True, input_shape=(x_train.shape[1], x_train.shape[2])),\n",
        "    Dropout(0.2),\n",
        "    LSTM(units=50, return_sequences=False),\n",
        "    Dropout(0.2),\n",
        "    Dense(units=25),\n",
        "    Dense(units=1)\n",
        "])\n",
        "\n",
        "# Compile model\n",
        "model.compile(optimizer='adam', loss='mean_squared_error')\n",
        "\n",
        "# Train model\n",
        "model.fit(x_train, y_train, batch_size=32, epochs=20)\n"
      ],
      "metadata": {
        "colab": {
          "base_uri": "https://localhost:8080/"
        },
        "id": "HLdnBOnRqMGP",
        "outputId": "d1234b52-7189-447f-eeba-cb95f4304506"
      },
      "execution_count": null,
      "outputs": [
        {
          "output_type": "stream",
          "name": "stderr",
          "text": [
            "/usr/local/lib/python3.11/dist-packages/keras/src/layers/rnn/rnn.py:200: UserWarning: Do not pass an `input_shape`/`input_dim` argument to a layer. When using Sequential models, prefer using an `Input(shape)` object as the first layer in the model instead.\n",
            "  super().__init__(**kwargs)\n"
          ]
        },
        {
          "output_type": "stream",
          "name": "stdout",
          "text": [
            "Epoch 1/20\n",
            "\u001b[1m15473/15473\u001b[0m \u001b[32m━━━━━━━━━━━━━━━━━━━━\u001b[0m\u001b[37m\u001b[0m \u001b[1m143s\u001b[0m 9ms/step - loss: 0.0019\n",
            "Epoch 2/20\n",
            "\u001b[1m15473/15473\u001b[0m \u001b[32m━━━━━━━━━━━━━━━━━━━━\u001b[0m\u001b[37m\u001b[0m \u001b[1m140s\u001b[0m 9ms/step - loss: 0.0018\n",
            "Epoch 3/20\n",
            "\u001b[1m15473/15473\u001b[0m \u001b[32m━━━━━━━━━━━━━━━━━━━━\u001b[0m\u001b[37m\u001b[0m \u001b[1m140s\u001b[0m 9ms/step - loss: 0.0018\n",
            "Epoch 4/20\n",
            "\u001b[1m15473/15473\u001b[0m \u001b[32m━━━━━━━━━━━━━━━━━━━━\u001b[0m\u001b[37m\u001b[0m \u001b[1m143s\u001b[0m 9ms/step - loss: 0.0018\n",
            "Epoch 5/20\n",
            "\u001b[1m15473/15473\u001b[0m \u001b[32m━━━━━━━━━━━━━━━━━━━━\u001b[0m\u001b[37m\u001b[0m \u001b[1m143s\u001b[0m 9ms/step - loss: 0.0018\n",
            "Epoch 6/20\n",
            "\u001b[1m15473/15473\u001b[0m \u001b[32m━━━━━━━━━━━━━━━━━━━━\u001b[0m\u001b[37m\u001b[0m \u001b[1m203s\u001b[0m 9ms/step - loss: 0.0018\n",
            "Epoch 7/20\n",
            "\u001b[1m15473/15473\u001b[0m \u001b[32m━━━━━━━━━━━━━━━━━━━━\u001b[0m\u001b[37m\u001b[0m \u001b[1m201s\u001b[0m 9ms/step - loss: 0.0019\n",
            "Epoch 8/20\n",
            "\u001b[1m15473/15473\u001b[0m \u001b[32m━━━━━━━━━━━━━━━━━━━━\u001b[0m\u001b[37m\u001b[0m \u001b[1m144s\u001b[0m 9ms/step - loss: 0.0018\n",
            "Epoch 9/20\n",
            "\u001b[1m15473/15473\u001b[0m \u001b[32m━━━━━━━━━━━━━━━━━━━━\u001b[0m\u001b[37m\u001b[0m \u001b[1m202s\u001b[0m 9ms/step - loss: 0.0018\n",
            "Epoch 10/20\n",
            "\u001b[1m15473/15473\u001b[0m \u001b[32m━━━━━━━━━━━━━━━━━━━━\u001b[0m\u001b[37m\u001b[0m \u001b[1m205s\u001b[0m 9ms/step - loss: 0.0018\n",
            "Epoch 11/20\n",
            "\u001b[1m15473/15473\u001b[0m \u001b[32m━━━━━━━━━━━━━━━━━━━━\u001b[0m\u001b[37m\u001b[0m \u001b[1m198s\u001b[0m 9ms/step - loss: 0.0018\n",
            "Epoch 12/20\n",
            "\u001b[1m15473/15473\u001b[0m \u001b[32m━━━━━━━━━━━━━━━━━━━━\u001b[0m\u001b[37m\u001b[0m \u001b[1m202s\u001b[0m 9ms/step - loss: 0.0019\n",
            "Epoch 13/20\n",
            "\u001b[1m15473/15473\u001b[0m \u001b[32m━━━━━━━━━━━━━━━━━━━━\u001b[0m\u001b[37m\u001b[0m \u001b[1m144s\u001b[0m 9ms/step - loss: 0.0018\n",
            "Epoch 14/20\n",
            "\u001b[1m15473/15473\u001b[0m \u001b[32m━━━━━━━━━━━━━━━━━━━━\u001b[0m\u001b[37m\u001b[0m \u001b[1m201s\u001b[0m 9ms/step - loss: 0.0018\n",
            "Epoch 15/20\n",
            "\u001b[1m15473/15473\u001b[0m \u001b[32m━━━━━━━━━━━━━━━━━━━━\u001b[0m\u001b[37m\u001b[0m \u001b[1m202s\u001b[0m 9ms/step - loss: 0.0019\n",
            "Epoch 16/20\n",
            "\u001b[1m15473/15473\u001b[0m \u001b[32m━━━━━━━━━━━━━━━━━━━━\u001b[0m\u001b[37m\u001b[0m \u001b[1m202s\u001b[0m 9ms/step - loss: 0.0018\n",
            "Epoch 17/20\n",
            "\u001b[1m15473/15473\u001b[0m \u001b[32m━━━━━━━━━━━━━━━━━━━━\u001b[0m\u001b[37m\u001b[0m \u001b[1m202s\u001b[0m 9ms/step - loss: 0.0018\n",
            "Epoch 18/20\n",
            "\u001b[1m15473/15473\u001b[0m \u001b[32m━━━━━━━━━━━━━━━━━━━━\u001b[0m\u001b[37m\u001b[0m \u001b[1m203s\u001b[0m 9ms/step - loss: 0.0018\n",
            "Epoch 19/20\n",
            "\u001b[1m15473/15473\u001b[0m \u001b[32m━━━━━━━━━━━━━━━━━━━━\u001b[0m\u001b[37m\u001b[0m \u001b[1m143s\u001b[0m 9ms/step - loss: 0.0018\n",
            "Epoch 20/20\n",
            "\u001b[1m15473/15473\u001b[0m \u001b[32m━━━━━━━━━━━━━━━━━━━━\u001b[0m\u001b[37m\u001b[0m \u001b[1m202s\u001b[0m 9ms/step - loss: 0.0018\n"
          ]
        },
        {
          "output_type": "execute_result",
          "data": {
            "text/plain": [
              "<keras.src.callbacks.history.History at 0x7c9e739badd0>"
            ]
          },
          "metadata": {},
          "execution_count": 9
        }
      ]
    },
    {
      "cell_type": "code",
      "source": [
        "# Create testing dataset\n",
        "test_data = scaled_data[training_data_len - 60:]\n",
        "\n",
        "x_test, y_test = [], data[training_data_len:, 0]\n",
        "\n",
        "for i in range(60, len(test_data)):\n",
        "    x_test.append(test_data[i-60:i])\n",
        "\n",
        "# Convert to numpy arrays\n",
        "x_test = np.array(x_test)\n",
        "\n",
        "# Reshape for LSTM\n",
        "x_test = np.reshape(x_test, (x_test.shape[0], x_test.shape[1], len(features)))\n"
      ],
      "metadata": {
        "id": "gVweQzocqPJI"
      },
      "execution_count": null,
      "outputs": []
    },
    {
      "cell_type": "code",
      "source": [
        "# Make predictions\n",
        "predictions = model.predict(x_test)\n",
        "\n",
        "# Reverse scaling\n",
        "predictions = scaler.inverse_transform(np.concatenate((predictions, np.zeros((len(predictions), len(features)-1))), axis=1))[:, 0]\n",
        "\n",
        "# Calculate RMSE\n",
        "rmse = np.sqrt(np.mean(((predictions - y_test) ** 2)))\n",
        "print(f'RMSE: {rmse}')\n"
      ],
      "metadata": {
        "colab": {
          "base_uri": "https://localhost:8080/"
        },
        "id": "VfIiRH7K4GGS",
        "outputId": "7c900ad2-2567-4c56-d282-52121b392182"
      },
      "execution_count": null,
      "outputs": [
        {
          "output_type": "stream",
          "name": "stdout",
          "text": [
            "\u001b[1m3869/3869\u001b[0m \u001b[32m━━━━━━━━━━━━━━━━━━━━\u001b[0m\u001b[37m\u001b[0m \u001b[1m13s\u001b[0m 3ms/step\n",
            "RMSE: 128.93840781285525\n"
          ]
        }
      ]
    },
    {
      "cell_type": "code",
      "source": [
        "from sklearn.metrics import mean_squared_error, mean_absolute_error, r2_score\n",
        "\n",
        "# Calculate error metrics\n",
        "mse = mean_squared_error(y_test, predictions)\n",
        "rmse = np.sqrt(mse)\n",
        "mae = mean_absolute_error(y_test, predictions)\n",
        "r2 = r2_score(y_test, predictions)\n",
        "\n",
        "print(f'MSE: {mse:.4f}')\n",
        "print(f'RMSE: {rmse:.4f}')\n",
        "print(f'MAE: {mae:.4f}')\n",
        "print(f'R² Score: {r2:.4f}')  # Closer to 1 means better prediction\n"
      ],
      "metadata": {
        "colab": {
          "base_uri": "https://localhost:8080/"
        },
        "id": "NaSV_Sfb4VeK",
        "outputId": "cca738d8-b65c-46ea-bb70-480cdc85842c"
      },
      "execution_count": null,
      "outputs": [
        {
          "output_type": "stream",
          "name": "stdout",
          "text": [
            "MSE: 16625.1130\n",
            "RMSE: 128.9384\n",
            "MAE: 56.4321\n",
            "R² Score: -0.0216\n"
          ]
        }
      ]
    },
    {
      "cell_type": "code",
      "source": [
        "# Avoid division by zero errors\n",
        "epsilon = 1e-10\n",
        "\n",
        "mape = np.mean(np.abs((y_test - predictions) / (y_test + epsilon))) * 100\n",
        "accuracy = 100 - mape  # Accuracy (higher is better)\n",
        "\n",
        "print(f'MAPE: {mape:.2f}%')\n",
        "print(f'Estimated Accuracy: {accuracy:.2f}%')\n"
      ],
      "metadata": {
        "id": "sF0hrlcv4c7X",
        "outputId": "e301cc0e-a75e-4aa8-8206-5f65d515d3bf",
        "colab": {
          "base_uri": "https://localhost:8080/"
        }
      },
      "execution_count": null,
      "outputs": [
        {
          "output_type": "stream",
          "name": "stdout",
          "text": [
            "MAPE: 79.74%\n",
            "Estimated Accuracy: 20.26%\n"
          ]
        }
      ]
    },
    {
      "cell_type": "code",
      "source": [
        "# Plot actual vs predicted values\n",
        "plt.figure(figsize=(14, 7))\n",
        "plt.title('Stock Price Prediction with Data Augmentation')\n",
        "plt.xlabel('Date')\n",
        "plt.ylabel('Stock Price')\n",
        "plt.plot(df['date'].iloc[training_data_len:], y_test, label='Actual Price', color='blue')\n",
        "plt.plot(df['date'].iloc[training_data_len:], predictions, label='Predicted Price', color='red')\n",
        "plt.legend()\n",
        "plt.show()"
      ],
      "metadata": {
        "colab": {
          "base_uri": "https://localhost:8080/",
          "height": 641
        },
        "id": "u9_TdFKZ4KEJ",
        "outputId": "5317f350-ccf7-4214-f2b1-8d4b296cf846"
      },
      "execution_count": null,
      "outputs": [
        {
          "output_type": "display_data",
          "data": {
            "text/plain": [
              "<Figure size 1400x700 with 1 Axes>"
            ],
            "image/png": "[encoded data removed]"
          },
          "metadata": {}
        }
      ]
    },
    {
      "cell_type": "code",
      "source": [],
      "metadata": {
        "id": "IQkrOVbb4eoT"
      },
      "execution_count": null,
      "outputs": []
    }
  ]
}